{
 "cells": [
  {
   "cell_type": "code",
   "execution_count": 13,
   "metadata": {},
   "outputs": [
    {
     "name": "stdout",
     "output_type": "stream",
     "text": [
      "happened\n",
      "happend\n"
     ]
    }
   ],
   "source": [
    "# Pune data isn't visible so I'll webscrape the data\n",
    "# data\n",
    "# import required packages\n",
    "from selenium import webdriver\n",
    "from bs4 import BeautifulSoup\n",
    "import time\n",
    "# provide the url of the channel whose data you want to fetch\n",
    "urls = [\n",
    "\t'https://www.swiggy.com/city/pune'\n",
    "]\n",
    "driver = webdriver.Chrome()\n",
    "def scroll_down_all(driver, pause_sec=1):\n",
    "\n",
    "# Get scroll height\n",
    "    last_height = driver.execute_script(\"return document.documentElement.scrollHeight\")\n",
    "    print(\"happened\")\n",
    "    while True:\n",
    "        print(\"happend\")\n",
    "    # Scroll down\n",
    "        driver.execute_script(\"window.scrollTo(0, document.documentElement.scrollHeight);\")\n",
    "\n",
    "        \n",
    "        time.sleep(pause_sec)\n",
    "\n",
    "        # After scroll down, get current height.\n",
    "        new_height = driver.execute_script(\"return document.documentElement.scrollHeight\")\n",
    "\n",
    "        if new_height == last_height:\n",
    "            break\n",
    "\n",
    "        last_height = new_height\n",
    "\n",
    "\n",
    "driver.get(urls[0])\n",
    "scroll_down_all(driver,5)\n",
    "content = driver.page_source.encode('utf-8').strip()\n",
    "soup = BeautifulSoup(content, 'lxml')\t\n",
    "\t\t\n",
    "\n",
    "\n",
    "# <span class=\"inline-metadata-item style-scope ytd-video-meta-block\">\n",
    "                    #   5 days ago\n",
    "                    #  </span>"
   ]
  },
  {
   "cell_type": "code",
   "execution_count": 17,
   "metadata": {},
   "outputs": [
    {
     "data": {
      "text/plain": [
       "['EatFit',\n",
       " 'Pizza Hut',\n",
       " \"Domino's Pizza\",\n",
       " 'Hyderabadi Spice',\n",
       " \"McDonald's\",\n",
       " 'Subway',\n",
       " 'Burger King',\n",
       " 'KFC',\n",
       " 'Grameen Kulfi',\n",
       " \"Reddy's Hyderabadi Biryani\",\n",
       " 'Baskin Robbins - Ice Cream Desserts',\n",
       " 'Natural Ice Cream',\n",
       " 'Oven Story Pizza',\n",
       " 'Theobroma',\n",
       " 'NIC Ice Creams',\n",
       " 'LunchBox - Meals and Thalis',\n",
       " 'Behrouz Biryani',\n",
       " 'Faasos - Wraps & Rolls',\n",
       " 'Burger Craft',\n",
       " 'The Good Bowl',\n",
       " 'EatFit',\n",
       " 'Pizza Hut',\n",
       " 'New Ashoka Pure Veg',\n",
       " \"Domino's Pizza\",\n",
       " \"Wendy's\",\n",
       " 'Great Indian Khichdi by EatFit',\n",
       " 'Hyderabadi Spice',\n",
       " 'Nakshatra Pure Veg',\n",
       " 'Subway',\n",
       " \"La Pino'z Pizza\"]"
      ]
     },
     "execution_count": 17,
     "metadata": {},
     "output_type": "execute_result"
    }
   ],
   "source": [
    "names = soup.findAll('div',class_='sc-dmyDGi bJRtXU')\n",
    "names_top = []\n",
    "\n",
    "for ele in names:\n",
    "    names_top.append(ele.text)\n",
    "names_top"
   ]
  },
  {
   "cell_type": "code",
   "execution_count": 18,
   "metadata": {},
   "outputs": [],
   "source": [
    "import pandas as pd\n",
    "df = pd.DataFrame(names_top)"
   ]
  },
  {
   "cell_type": "code",
   "execution_count": 19,
   "metadata": {},
   "outputs": [
    {
     "data": {
      "text/html": [
       "<div>\n",
       "<style scoped>\n",
       "    .dataframe tbody tr th:only-of-type {\n",
       "        vertical-align: middle;\n",
       "    }\n",
       "\n",
       "    .dataframe tbody tr th {\n",
       "        vertical-align: top;\n",
       "    }\n",
       "\n",
       "    .dataframe thead th {\n",
       "        text-align: right;\n",
       "    }\n",
       "</style>\n",
       "<table border=\"1\" class=\"dataframe\">\n",
       "  <thead>\n",
       "    <tr style=\"text-align: right;\">\n",
       "      <th></th>\n",
       "      <th>0</th>\n",
       "    </tr>\n",
       "  </thead>\n",
       "  <tbody>\n",
       "    <tr>\n",
       "      <th>0</th>\n",
       "      <td>EatFit</td>\n",
       "    </tr>\n",
       "    <tr>\n",
       "      <th>1</th>\n",
       "      <td>Pizza Hut</td>\n",
       "    </tr>\n",
       "    <tr>\n",
       "      <th>2</th>\n",
       "      <td>Domino's Pizza</td>\n",
       "    </tr>\n",
       "    <tr>\n",
       "      <th>3</th>\n",
       "      <td>Hyderabadi Spice</td>\n",
       "    </tr>\n",
       "    <tr>\n",
       "      <th>4</th>\n",
       "      <td>McDonald's</td>\n",
       "    </tr>\n",
       "  </tbody>\n",
       "</table>\n",
       "</div>"
      ],
      "text/plain": [
       "                  0\n",
       "0            EatFit\n",
       "1         Pizza Hut\n",
       "2    Domino's Pizza\n",
       "3  Hyderabadi Spice\n",
       "4        McDonald's"
      ]
     },
     "execution_count": 19,
     "metadata": {},
     "output_type": "execute_result"
    }
   ],
   "source": [
    "df[:5]"
   ]
  }
 ],
 "metadata": {
  "kernelspec": {
   "display_name": "Python 3",
   "language": "python",
   "name": "python3"
  },
  "language_info": {
   "codemirror_mode": {
    "name": "ipython",
    "version": 3
   },
   "file_extension": ".py",
   "mimetype": "text/x-python",
   "name": "python",
   "nbconvert_exporter": "python",
   "pygments_lexer": "ipython3",
   "version": "3.11.0"
  },
  "orig_nbformat": 4
 },
 "nbformat": 4,
 "nbformat_minor": 2
}
